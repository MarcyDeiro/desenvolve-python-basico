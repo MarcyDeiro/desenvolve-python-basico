{
  "cells": [
    {
      "cell_type": "markdown",
      "metadata": {
        "id": "1pCTdOHonv5f"
      },
      "source": [
        "# Módulo 2\n",
        "\n",
        "## 2.3 Instruções e Expressões\n",
        "\n",
        "### Q1\n",
        "\n",
        "Faça um programa que armazene o valor de 20 reais de salário por hora de um trabalhador, e o número de 40 horas trabalhadas na semana. Com essas informações, calcule e imprima:\n",
        "- Salário semanal bruto\n",
        "- Valor descontado por semana INSS (10% do bruto)\n",
        "- Valor descontado por semana pelo sindicato (5% do bruto)\n",
        "- Salário semanal líquido (Bruto - Descontos)"
      ]
    },
    {
      "cell_type": "code",
      "execution_count": 1,
      "metadata": {
        "id": "hVbX0I97nj6M"
      },
      "outputs": [
        {
          "name": "stdout",
          "output_type": "stream",
          "text": [
            "O salário semanal bruto é: R$ 800.0\n",
            "O desconto por semana do INSS é: R$ 80.0\n",
            "O desconto por semana do sinditado é: R$ 40.0\n",
            "O salário semanal líquido é: R$ 680.0\n"
          ]
        }
      ],
      "source": [
        "## Escreva e execute seu código aqui\n",
        "salario_hora = 20.0\n",
        "horas_semana = 40\n",
        "\n",
        "salario_semanal = salario_hora * horas_semana\n",
        "\n",
        "desconto_inss = 0.10 * salario_semanal\n",
        "desconto_sind = 0.05 * salario_semanal \n",
        "\n",
        "salario_liq = salario_semanal - desconto_inss\n",
        "salario_liq = salario_liq - desconto_sind\n",
        "\n",
        "print(\"O salário semanal bruto é: R$\",salario_semanal)\n",
        "print(\"O desconto por semana do INSS é: R$\",desconto_inss)\n",
        "print(\"O desconto por semana do sinditado é: R$\",desconto_sind)\n",
        "print('O salário semanal líquido é: R$',salario_liq)\n"
      ]
    },
    {
      "cell_type": "markdown",
      "metadata": {
        "id": "pIxKX9J2oGZ1"
      },
      "source": [
        "### Q2\n",
        "\n",
        "Altere o programa anterior para a partir dos valores de horas trabalhadas por semana e salário por hora, calcular **em somente duas instruções**:\n",
        "- Salário semanal bruto\n",
        "- Salário semanal líquido com todos os descontos. Para a segunda instrução, realize todos os cálculos aritméticos em uma expressão composta.\n"
      ]
    },
    {
      "cell_type": "code",
      "execution_count": 2,
      "metadata": {
        "id": "pAHw9Xf9oGoi"
      },
      "outputs": [
        {
          "name": "stdout",
          "output_type": "stream",
          "text": [
            "O salário semanal bruto é: R$ 800.0\n",
            "O salário semanal líquido é: R$ 680.0\n"
          ]
        }
      ],
      "source": [
        "## Escreva e execute seu código aqui\n",
        "salario_hora = 20.0\n",
        "horas_semana = 40\n",
        "\n",
        "salario_semanal = salario_hora * horas_semana\n",
        "\n",
        "salario_liq = salario_semanal - ( (salario_semanal * 0.10) + (salario_semanal * 0.05) )\n",
        "\n",
        "print(\"O salário semanal bruto é: R$\",salario_semanal)\n",
        "print('O salário semanal líquido é: R$',salario_liq)"
      ]
    },
    {
      "cell_type": "markdown",
      "metadata": {
        "id": "m8tlHRuWpBOB"
      },
      "source": [
        "### Q3\n",
        "\n",
        "Você está desenvolvendo um software de conversão de moeda e precisa calcular o valor equivalente em yuan chinês a partir de uma quantia em real. A taxa de câmbio é de 0.69 BRL (real) para 1 CNY (yuan). Escreva um programa que define em uma variável uma quantia em reais (BRL) e calcula o valor equivalente em yuan (CNY). Imprima o resultado."
      ]
    },
    {
      "cell_type": "code",
      "execution_count": 4,
      "metadata": {
        "id": "2bPw7uF6oeL9"
      },
      "outputs": [
        {
          "name": "stdout",
          "output_type": "stream",
          "text": [
            "O valor de 100 reais equivale a 144.92753623188406 yuans\n"
          ]
        }
      ],
      "source": [
        "## Escreva e execute seu código aqui\n",
        "brl = 100\n",
        "taxa = 0.69\n",
        "\n",
        "cny = brl / taxa\n",
        "\n",
        "print('O valor de',brl,'reais equivale a',cny,'yuans')"
      ]
    },
    {
      "cell_type": "markdown",
      "metadata": {
        "id": "-Na3ltDCp74A"
      },
      "source": [
        "### Q4\n",
        "\n",
        "Você é um treinador de corrida e deseja calcular a velocidade média que um atleta precisa manter para completar a Maratona Internacional de São Silvestre, que tem uma distância total de 42.195 km. A fórmula para calcular a velocidade média ($v\\_media$) é dada por $v\\_media = \\frac{distancia}{tempo}$ . Escreva um programa em Python para calcular a velocidade média necessária para completar a maratona em 3 horas.\n",
        "\n",
        "**Calcule e imprima o resultado em metros/segundo**, ou seja, converta a distância de quilômetros para metros ($metro = \\frac{km}{1000}$) e a velocidade de horas para segundos $(segundo = \\frac{hora}{3600})$."
      ]
    },
    {
      "cell_type": "code",
      "execution_count": 9,
      "metadata": {
        "id": "Bn6l8kcSrE4L"
      },
      "outputs": [
        {
          "name": "stdout",
          "output_type": "stream",
          "text": [
            "A velocidade média é: 3.9069444444444446 m/s\n"
          ]
        }
      ],
      "source": [
        "## Escreva e execute seu código aqui\n",
        "distancia_km = 42.195\n",
        "distancia_m = 42.195 * 1000\n",
        "\n",
        "tempo_h = 3\n",
        "tempo_seg = 3 * 3600\n",
        "\n",
        "vm = distancia_m / tempo_seg\n",
        "\n",
        "print('A velocidade média é:',vm,'m/s')"
      ]
    }
  ],
  "metadata": {
    "colab": {
      "provenance": []
    },
    "kernelspec": {
      "display_name": "Python 3",
      "name": "python3"
    },
    "language_info": {
      "codemirror_mode": {
        "name": "ipython",
        "version": 3
      },
      "file_extension": ".py",
      "mimetype": "text/x-python",
      "name": "python",
      "nbconvert_exporter": "python",
      "pygments_lexer": "ipython3",
      "version": "3.12.4"
    }
  },
  "nbformat": 4,
  "nbformat_minor": 0
}
